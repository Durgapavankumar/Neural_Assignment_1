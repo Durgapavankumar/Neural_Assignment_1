{
  "nbformat": 4,
  "nbformat_minor": 0,
  "metadata": {
    "colab": {
      "provenance": []
    },
    "kernelspec": {
      "name": "python3",
      "display_name": "Python 3"
    },
    "language_info": {
      "name": "python"
    }
  },
  "cells": [
    {
      "cell_type": "code",
      "source": [
        "#Durga Pavan Kumar Pailla\n",
        "#700758689"
      ],
      "metadata": {
        "id": "BmTIFyGcINu4"
      },
      "execution_count": null,
      "outputs": []
    },
    {
      "cell_type": "code",
      "execution_count": 3,
      "metadata": {
        "colab": {
          "base_uri": "https://localhost:8080/"
        },
        "id": "iKZLheDQCz29",
        "outputId": "b3309077-ef20-45cd-a80d-54fcd41afe9d"
      },
      "outputs": [
        {
          "output_type": "stream",
          "name": "stdout",
          "text": [
            "Enter the stringpython\n",
            "Initially : ['p', 'y', 't', 'h', 'o', 'n']\n",
            "After removing t and h : ['p', 'y', 'o', 'n']\n",
            "Result : pyon\n"
          ]
        }
      ],
      "source": [
        "#Task 1\n",
        "str=list(input(\"Enter the string\"))\n",
        "print(\"Initially :\",str)\n",
        "str.remove('t')\n",
        "str.remove('h')\n",
        "print(\"After removing t and h :\",str)\n",
        "result = ''.join(str)\n",
        "print(\"Result :\",result)"
      ]
    },
    {
      "cell_type": "code",
      "source": [
        "a=float(input(\"1st Number\"))\n",
        "b=float(input(\"2nd Number\"))\n",
        "print(\"Addition:\", a+b)\n",
        "print(\"Subtraction:\", a-b)\n",
        "print(\"Multiplication:\",a*b)\n",
        "print(\"Division:\", a/b)"
      ],
      "metadata": {
        "colab": {
          "base_uri": "https://localhost:8080/"
        },
        "id": "3J6bF2Q7DCUX",
        "outputId": "6f212e6e-680d-4fed-d5f9-44107f734fce"
      },
      "execution_count": 8,
      "outputs": [
        {
          "output_type": "stream",
          "name": "stdout",
          "text": [
            "1st Number3\n",
            "2nd Number1\n",
            "Addition: 4.0\n",
            "Subtraction: 2.0\n",
            "Multiplication: 3.0\n",
            "Division: 3.0\n"
          ]
        }
      ]
    },
    {
      "cell_type": "code",
      "source": [
        "# Task 2\n",
        "str1 = input(\"Input a  sentence: \")\n",
        "modified_sentence= str1.replace('python', 'pythons')\n",
        "print(\"Modified sentence:\", modified_sentence)\n"
      ],
      "metadata": {
        "colab": {
          "base_uri": "https://localhost:8080/"
        },
        "id": "bK8LYaKMD618",
        "outputId": "9c609223-11ea-4274-8899-a8561edd657f"
      },
      "execution_count": 9,
      "outputs": [
        {
          "output_type": "stream",
          "name": "stdout",
          "text": [
            "Input a  sentence: python a bc python\n",
            "Modified sentence: pythons a bc pythons\n"
          ]
        }
      ]
    },
    {
      "cell_type": "code",
      "source": [
        "#Task 3 Grading\n",
        "\n",
        "score = float(input(\"Enter the marks : \"))\n",
        "if 90 <= score <= 100:\n",
        "    grade = 'A'\n",
        "elif 80 <= score < 90:\n",
        "    grade = 'B'\n",
        "elif 70 <= score < 80:\n",
        "    grade = 'C'\n",
        "elif 60 <= score < 70:\n",
        "    grade = 'D'\n",
        "elif 0 <= score < 60:\n",
        "    grade = 'F'\n",
        "else:\n",
        "    grade = 'Invalid score'\n",
        "\n",
        "print(\"Your grade is:\", grade)\n"
      ],
      "metadata": {
        "colab": {
          "base_uri": "https://localhost:8080/"
        },
        "id": "GB-1ww1_E66I",
        "outputId": "9b4be1ec-e610-4482-b1d8-d055a5ad0011"
      },
      "execution_count": 11,
      "outputs": [
        {
          "output_type": "stream",
          "name": "stdout",
          "text": [
            "Enter the marks : 80\n",
            "Your grade is: B\n"
          ]
        }
      ]
    },
    {
      "cell_type": "code",
      "source": [],
      "metadata": {
        "id": "MfNax9YiFTyL"
      },
      "execution_count": null,
      "outputs": []
    }
  ]
}